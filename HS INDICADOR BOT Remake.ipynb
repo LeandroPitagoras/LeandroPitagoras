{
 "cells": [
  {
   "cell_type": "code",
   "execution_count": 17,
   "id": "ecafe4ae",
   "metadata": {},
   "outputs": [],
   "source": [
    "import pandas as pd\n",
    "import numpy as np\n",
    "import time\n",
    "from datetime import date"
   ]
  },
  {
   "cell_type": "code",
   "execution_count": 19,
   "id": "00264924",
   "metadata": {},
   "outputs": [],
   "source": [
    "#subindo o relatório geral\n",
    "Lista_Geral_Dossier_2022_df = pd.read_excel(r'C:\\Users\\lb04610\\Alliance\\A-ILN Curitiba - Documentos\\A-ILN\\05 - PROJETOS\\01 - Dossier\\01 - Lista Geral Dossier\\2022\\Lista_Geral_Dossier 2022.xlsx', sheet_name=0)"
   ]
  },
  {
   "cell_type": "code",
   "execution_count": 20,
   "id": "153fab53",
   "metadata": {},
   "outputs": [],
   "source": [
    "#excluindo infos de anulado/devolvido/solicitado\n",
    "Lista_Geral_Dossier_2022_df = Lista_Geral_Dossier_2022_df[Lista_Geral_Dossier_2022_df['DATA REAL RECEBIMENTO'] != 'ANULADO']\n",
    "Lista_Geral_Dossier_2022_df = Lista_Geral_Dossier_2022_df[Lista_Geral_Dossier_2022_df['DATA REAL RECEBIMENTO'] != 'Devolvido']\n",
    "Lista_Geral_Dossier_2022_df = Lista_Geral_Dossier_2022_df[Lista_Geral_Dossier_2022_df['PROMESSA  RECEBIMENTO'] != 'ANULADO']\n",
    "Lista_Geral_Dossier_2022_df = Lista_Geral_Dossier_2022_df[Lista_Geral_Dossier_2022_df['PROMESSA  RECEBIMENTO'] != 'SOLICITADO']"
   ]
  },
  {
   "cell_type": "code",
   "execution_count": 21,
   "id": "d4a59c0a",
   "metadata": {},
   "outputs": [],
   "source": [
    "#Selecionando colunas\n",
    "Lista_Geral_Dossier_2022_df = Lista_Geral_Dossier_2022_df[['CLIENTE', 'Recebimento DLS HS', 'Causa do Dossier', 'Ruptura Cliente', 'PROMESSA  RECEBIMENTO','DATA REAL RECEBIMENTO' ]]"
   ]
  },
  {
   "cell_type": "code",
   "execution_count": 22,
   "id": "3a7362ea",
   "metadata": {},
   "outputs": [],
   "source": [
    "#criando uma coluna de tempo de reação (Coluna Ruptura)\n",
    "Lista_Geral_Dossier_2022_df['Ruptura'] = Lista_Geral_Dossier_2022_df['Ruptura Cliente'] - Lista_Geral_Dossier_2022_df['Recebimento DLS HS']"
   ]
  },
  {
   "cell_type": "code",
   "execution_count": 23,
   "id": "aaabf77e",
   "metadata": {},
   "outputs": [],
   "source": [
    "#criando a categoria de urgência (Coluna Prazo)\n",
    "Lista_Geral_Dossier_2022_df.loc[Lista_Geral_Dossier_2022_df['Ruptura'] <= '07 days 00:00:00', 'prazo'] = '00 a 07 - Fora pz minimo'\n",
    "Lista_Geral_Dossier_2022_df.loc[(Lista_Geral_Dossier_2022_df['Ruptura'] >= '08 days 00:00:00') & (Lista_Geral_Dossier_2022_df['Ruptura'] <= '15 days 00:00:00'), 'prazo'] = '08 a 15 - Urgencias/Excessões'\n",
    "Lista_Geral_Dossier_2022_df.loc[(Lista_Geral_Dossier_2022_df['Ruptura'] >= '16 days 00:00:00') & (Lista_Geral_Dossier_2022_df['Ruptura'] <= '23 days 00:00:00'), 'prazo'] = '16 a 22 - Standard'\n",
    "Lista_Geral_Dossier_2022_df.loc[(Lista_Geral_Dossier_2022_df['Ruptura'] > '23 days 00:00:00'), 'prazo']  = '23 ou mais - Sem risco'"
   ]
  },
  {
   "cell_type": "code",
   "execution_count": 24,
   "id": "64f8f452",
   "metadata": {},
   "outputs": [],
   "source": [
    "#criando um df Argentina\n",
    "Lista_Geral_Dossier_2022_Arg_df = Lista_Geral_Dossier_2022_df[Lista_Geral_Dossier_2022_df['CLIENTE'] == 'ARGENTINA']"
   ]
  },
  {
   "cell_type": "code",
   "execution_count": 25,
   "id": "9dd670a1",
   "metadata": {},
   "outputs": [
    {
     "data": {
      "text/html": [
       "<div>\n",
       "<style scoped>\n",
       "    .dataframe tbody tr th:only-of-type {\n",
       "        vertical-align: middle;\n",
       "    }\n",
       "\n",
       "    .dataframe tbody tr th {\n",
       "        vertical-align: top;\n",
       "    }\n",
       "\n",
       "    .dataframe thead th {\n",
       "        text-align: right;\n",
       "    }\n",
       "</style>\n",
       "<table border=\"1\" class=\"dataframe\">\n",
       "  <thead>\n",
       "    <tr style=\"text-align: right;\">\n",
       "      <th></th>\n",
       "      <th>Acumulado</th>\n",
       "    </tr>\n",
       "  </thead>\n",
       "  <tbody>\n",
       "    <tr>\n",
       "      <th>DEPANNAGE</th>\n",
       "      <td>274</td>\n",
       "    </tr>\n",
       "    <tr>\n",
       "      <th>PRÉ SÉRIE</th>\n",
       "      <td>43</td>\n",
       "    </tr>\n",
       "    <tr>\n",
       "      <th>ABSORÇÃO DEMANDA SÉRIE</th>\n",
       "      <td>24</td>\n",
       "    </tr>\n",
       "    <tr>\n",
       "      <th>TESTE DE EMBALAGEM</th>\n",
       "      <td>21</td>\n",
       "    </tr>\n",
       "    <tr>\n",
       "      <th>FIM DE SÉRIE</th>\n",
       "      <td>11</td>\n",
       "    </tr>\n",
       "  </tbody>\n",
       "</table>\n",
       "</div>"
      ],
      "text/plain": [
       "                        Acumulado\n",
       "DEPANNAGE                     274\n",
       "PRÉ SÉRIE                      43\n",
       "ABSORÇÃO DEMANDA SÉRIE         24\n",
       "TESTE DE EMBALAGEM             21\n",
       "FIM DE SÉRIE                   11"
      ]
     },
     "execution_count": 25,
     "metadata": {},
     "output_type": "execute_result"
    }
   ],
   "source": [
    "#fazendo value counts da Causa do Dossier Arg\n",
    "Lista_Geral_Dossier_2022_Arg_causa_series = Lista_Geral_Dossier_2022_Arg_df['Causa do Dossier'].value_counts()\n",
    "\n",
    "#fazendo gráfico\n",
    "#Lista_Geral_Dossier_2022_Arg_causa_series.plot(kind='pie')\n",
    "\n",
    "#transformando a series em um df e transpondo\n",
    "Lista_Geral_Dossier_2022_Arg_causa_df= pd.DataFrame([Lista_Geral_Dossier_2022_Arg_causa_series])\n",
    "Lista_Geral_Dossier_2022_Arg_causa_df_T=Lista_Geral_Dossier_2022_Arg_causa_df.T\n",
    "#alterando nome da coluna\n",
    "Lista_Geral_Dossier_2022_Arg_causa_df_T.columns = ['Acumulado']\n",
    "Lista_Geral_Dossier_2022_Arg_causa_df_T"
   ]
  },
  {
   "cell_type": "code",
   "execution_count": 26,
   "id": "5f566c53",
   "metadata": {},
   "outputs": [
    {
     "data": {
      "text/html": [
       "<div>\n",
       "<style scoped>\n",
       "    .dataframe tbody tr th:only-of-type {\n",
       "        vertical-align: middle;\n",
       "    }\n",
       "\n",
       "    .dataframe tbody tr th {\n",
       "        vertical-align: top;\n",
       "    }\n",
       "\n",
       "    .dataframe thead th {\n",
       "        text-align: right;\n",
       "    }\n",
       "</style>\n",
       "<table border=\"1\" class=\"dataframe\">\n",
       "  <thead>\n",
       "    <tr style=\"text-align: right;\">\n",
       "      <th></th>\n",
       "      <th>Acumulado</th>\n",
       "    </tr>\n",
       "  </thead>\n",
       "  <tbody>\n",
       "    <tr>\n",
       "      <th>16 a 22 - Standard</th>\n",
       "      <td>109</td>\n",
       "    </tr>\n",
       "    <tr>\n",
       "      <th>08 a 15 - Urgencias/Excessões</th>\n",
       "      <td>96</td>\n",
       "    </tr>\n",
       "    <tr>\n",
       "      <th>23 ou mais - Sem risco</th>\n",
       "      <td>84</td>\n",
       "    </tr>\n",
       "    <tr>\n",
       "      <th>00 a 07 - Fora pz minimo</th>\n",
       "      <td>84</td>\n",
       "    </tr>\n",
       "  </tbody>\n",
       "</table>\n",
       "</div>"
      ],
      "text/plain": [
       "                               Acumulado\n",
       "16 a 22 - Standard                   109\n",
       "08 a 15 - Urgencias/Excessões         96\n",
       "23 ou mais - Sem risco                84\n",
       "00 a 07 - Fora pz minimo              84"
      ]
     },
     "execution_count": 26,
     "metadata": {},
     "output_type": "execute_result"
    }
   ],
   "source": [
    "#fazendo value counts do prazo Arg\n",
    "Lista_Geral_Dossier_2022_Arg_prazo_series = Lista_Geral_Dossier_2022_Arg_df['prazo'].value_counts()\n",
    "#transformando a series em um df e transpondo\n",
    "Lista_Geral_Dossier_2022_Arg_prazo_df= pd.DataFrame([Lista_Geral_Dossier_2022_Arg_prazo_series])\n",
    "Lista_Geral_Dossier_2022_Arg_prazo_df_T = Lista_Geral_Dossier_2022_Arg_prazo_df.T\n",
    "#alterando nome da coluna\n",
    "Lista_Geral_Dossier_2022_Arg_prazo_df_T.columns = ['Acumulado']\n",
    "Lista_Geral_Dossier_2022_Arg_prazo_df_T"
   ]
  },
  {
   "cell_type": "code",
   "execution_count": 27,
   "id": "71f44b6e",
   "metadata": {},
   "outputs": [],
   "source": [
    "#criando um df Colombia\n",
    "Lista_Geral_Dossier_2022_Col_df = Lista_Geral_Dossier_2022_df[Lista_Geral_Dossier_2022_df['CLIENTE'] == 'COLÔMBIA']"
   ]
  },
  {
   "cell_type": "code",
   "execution_count": 28,
   "id": "3595e842",
   "metadata": {},
   "outputs": [
    {
     "data": {
      "text/html": [
       "<div>\n",
       "<style scoped>\n",
       "    .dataframe tbody tr th:only-of-type {\n",
       "        vertical-align: middle;\n",
       "    }\n",
       "\n",
       "    .dataframe tbody tr th {\n",
       "        vertical-align: top;\n",
       "    }\n",
       "\n",
       "    .dataframe thead th {\n",
       "        text-align: right;\n",
       "    }\n",
       "</style>\n",
       "<table border=\"1\" class=\"dataframe\">\n",
       "  <thead>\n",
       "    <tr style=\"text-align: right;\">\n",
       "      <th></th>\n",
       "      <th>Acumulado</th>\n",
       "    </tr>\n",
       "  </thead>\n",
       "  <tbody>\n",
       "    <tr>\n",
       "      <th>DEPANNAGE</th>\n",
       "      <td>156</td>\n",
       "    </tr>\n",
       "    <tr>\n",
       "      <th>TESTE DE EMBALAGEM</th>\n",
       "      <td>25</td>\n",
       "    </tr>\n",
       "    <tr>\n",
       "      <th>ABSORÇÃO DEMANDA SÉRIE</th>\n",
       "      <td>25</td>\n",
       "    </tr>\n",
       "    <tr>\n",
       "      <th>PRÉ SÉRIE</th>\n",
       "      <td>8</td>\n",
       "    </tr>\n",
       "    <tr>\n",
       "      <th>FIM DE SÉRIE</th>\n",
       "      <td>7</td>\n",
       "    </tr>\n",
       "  </tbody>\n",
       "</table>\n",
       "</div>"
      ],
      "text/plain": [
       "                        Acumulado\n",
       "DEPANNAGE                     156\n",
       "TESTE DE EMBALAGEM             25\n",
       "ABSORÇÃO DEMANDA SÉRIE         25\n",
       "PRÉ SÉRIE                       8\n",
       "FIM DE SÉRIE                    7"
      ]
     },
     "execution_count": 28,
     "metadata": {},
     "output_type": "execute_result"
    }
   ],
   "source": [
    "#fazendo value counts da Causa do Dossier Col\n",
    "Lista_Geral_Dossier_2022_Col_causa_series = Lista_Geral_Dossier_2022_Col_df['Causa do Dossier'].value_counts()\n",
    "#transformando a series em um df e transpondo\n",
    "Lista_Geral_Dossier_2022_Col_causa_df= pd.DataFrame([Lista_Geral_Dossier_2022_Col_causa_series])\n",
    "Lista_Geral_Dossier_2022_Col_causa_df_T=Lista_Geral_Dossier_2022_Col_causa_df.T\n",
    "#alterando nome da coluna\n",
    "Lista_Geral_Dossier_2022_Col_causa_df_T.columns = ['Acumulado']\n",
    "Lista_Geral_Dossier_2022_Col_causa_df_T"
   ]
  },
  {
   "cell_type": "code",
   "execution_count": 29,
   "id": "51ae1e0f",
   "metadata": {},
   "outputs": [
    {
     "data": {
      "text/html": [
       "<div>\n",
       "<style scoped>\n",
       "    .dataframe tbody tr th:only-of-type {\n",
       "        vertical-align: middle;\n",
       "    }\n",
       "\n",
       "    .dataframe tbody tr th {\n",
       "        vertical-align: top;\n",
       "    }\n",
       "\n",
       "    .dataframe thead th {\n",
       "        text-align: right;\n",
       "    }\n",
       "</style>\n",
       "<table border=\"1\" class=\"dataframe\">\n",
       "  <thead>\n",
       "    <tr style=\"text-align: right;\">\n",
       "      <th></th>\n",
       "      <th>Acumulado</th>\n",
       "    </tr>\n",
       "  </thead>\n",
       "  <tbody>\n",
       "    <tr>\n",
       "      <th>23 ou mais - Sem risco</th>\n",
       "      <td>97</td>\n",
       "    </tr>\n",
       "    <tr>\n",
       "      <th>16 a 22 - Standard</th>\n",
       "      <td>50</td>\n",
       "    </tr>\n",
       "    <tr>\n",
       "      <th>00 a 07 - Fora pz minimo</th>\n",
       "      <td>38</td>\n",
       "    </tr>\n",
       "    <tr>\n",
       "      <th>08 a 15 - Urgencias/Excessões</th>\n",
       "      <td>36</td>\n",
       "    </tr>\n",
       "  </tbody>\n",
       "</table>\n",
       "</div>"
      ],
      "text/plain": [
       "                               Acumulado\n",
       "23 ou mais - Sem risco                97\n",
       "16 a 22 - Standard                    50\n",
       "00 a 07 - Fora pz minimo              38\n",
       "08 a 15 - Urgencias/Excessões         36"
      ]
     },
     "execution_count": 29,
     "metadata": {},
     "output_type": "execute_result"
    }
   ],
   "source": [
    "#fazendo value counts da prazo Col\n",
    "Lista_Geral_Dossier_2022_Col_prazo_series = Lista_Geral_Dossier_2022_Col_df['prazo'].value_counts()\n",
    "#transformando a series em um df e transpondo\n",
    "Lista_Geral_Dossier_2022_Col_prazo_df= pd.DataFrame([Lista_Geral_Dossier_2022_Col_prazo_series])\n",
    "Lista_Geral_Dossier_2022_Col_prazo_df_T = Lista_Geral_Dossier_2022_Col_prazo_df.T\n",
    "#alterando nome da coluna\n",
    "Lista_Geral_Dossier_2022_Col_prazo_df_T.columns = ['Acumulado']\n",
    "Lista_Geral_Dossier_2022_Col_prazo_df_T"
   ]
  },
  {
   "cell_type": "code",
   "execution_count": 30,
   "id": "509b56a0",
   "metadata": {},
   "outputs": [
    {
     "name": "stdout",
     "output_type": "stream",
     "text": [
      "2022-08-01 <class 'datetime.date'>\n",
      "2022-08-31\n"
     ]
    }
   ],
   "source": [
    "from datetime import date\n",
    "from datetime import datetime\n",
    "from dateutil.relativedelta import relativedelta\n",
    "\n",
    "hoje = date.today()\n",
    "primeiro  = date(hoje.year, hoje.month, 1) + relativedelta(months=-1)\n",
    "ultimo = date(hoje.year, hoje.month, 1) + relativedelta(days=-1)\n",
    "\n",
    "#primeirodia = datetime.datetime.primeiro()\n",
    "\n",
    "print(primeiro, type(primeiro))\n",
    "print(ultimo)"
   ]
  },
  {
   "cell_type": "code",
   "execution_count": 31,
   "id": "927fafc8",
   "metadata": {},
   "outputs": [
    {
     "name": "stdout",
     "output_type": "stream",
     "text": [
      "<class 'pandas.core.frame.DataFrame'>\n",
      "Int64Index: 683 entries, 0 to 822\n",
      "Data columns (total 8 columns):\n",
      " #   Column                 Non-Null Count  Dtype          \n",
      "---  ------                 --------------  -----          \n",
      " 0   CLIENTE                683 non-null    object         \n",
      " 1   Recebimento DLS HS     683 non-null    object         \n",
      " 2   Causa do Dossier       683 non-null    object         \n",
      " 3   Ruptura Cliente        683 non-null    datetime64[ns] \n",
      " 4   PROMESSA  RECEBIMENTO  683 non-null    object         \n",
      " 5   DATA REAL RECEBIMENTO  668 non-null    object         \n",
      " 6   Ruptura                683 non-null    timedelta64[ns]\n",
      " 7   prazo                  683 non-null    object         \n",
      "dtypes: datetime64[ns](1), object(6), timedelta64[ns](1)\n",
      "memory usage: 48.0+ KB\n"
     ]
    }
   ],
   "source": [
    "Lista_Geral_Dossier_2022_df['Recebimento DLS HS'] = Lista_Geral_Dossier_2022_df['Recebimento DLS HS'].dt.date\n",
    "Lista_Geral_Dossier_2022_df.info()"
   ]
  },
  {
   "cell_type": "code",
   "execution_count": 32,
   "id": "38cd34a3",
   "metadata": {},
   "outputs": [
    {
     "ename": "TypeError",
     "evalue": "can't compare datetime.datetime to datetime.date",
     "output_type": "error",
     "traceback": [
      "\u001b[1;31m---------------------------------------------------------------------------\u001b[0m",
      "\u001b[1;31mTypeError\u001b[0m                                 Traceback (most recent call last)",
      "\u001b[1;32m~\\AppData\\Local\\Temp/ipykernel_3528/209451192.py\u001b[0m in \u001b[0;36m<module>\u001b[1;34m\u001b[0m\n\u001b[0;32m      1\u001b[0m \u001b[1;31m#excluindo infos de anulado/devolvido/solicitado\u001b[0m\u001b[1;33m\u001b[0m\u001b[1;33m\u001b[0m\u001b[0m\n\u001b[1;32m----> 2\u001b[1;33m \u001b[0mLista_Geral_Dossier_2022_mes_df\u001b[0m \u001b[1;33m=\u001b[0m \u001b[0mLista_Geral_Dossier_2022_df\u001b[0m\u001b[1;33m[\u001b[0m\u001b[0mLista_Geral_Dossier_2022_df\u001b[0m\u001b[1;33m[\u001b[0m\u001b[1;34m'DATA REAL RECEBIMENTO'\u001b[0m\u001b[1;33m]\u001b[0m \u001b[1;33m>=\u001b[0m \u001b[0mprimeiro\u001b[0m\u001b[1;33m]\u001b[0m\u001b[1;33m\u001b[0m\u001b[1;33m\u001b[0m\u001b[0m\n\u001b[0m",
      "\u001b[1;32mC:\\Program Files (x86)\\python39\\V_3.9.8\\soft\\WPy64\\python-3.9.8.amd64\\lib\\site-packages\\pandas\\core\\ops\\common.py\u001b[0m in \u001b[0;36mnew_method\u001b[1;34m(self, other)\u001b[0m\n\u001b[0;32m     67\u001b[0m         \u001b[0mother\u001b[0m \u001b[1;33m=\u001b[0m \u001b[0mitem_from_zerodim\u001b[0m\u001b[1;33m(\u001b[0m\u001b[0mother\u001b[0m\u001b[1;33m)\u001b[0m\u001b[1;33m\u001b[0m\u001b[1;33m\u001b[0m\u001b[0m\n\u001b[0;32m     68\u001b[0m \u001b[1;33m\u001b[0m\u001b[0m\n\u001b[1;32m---> 69\u001b[1;33m         \u001b[1;32mreturn\u001b[0m \u001b[0mmethod\u001b[0m\u001b[1;33m(\u001b[0m\u001b[0mself\u001b[0m\u001b[1;33m,\u001b[0m \u001b[0mother\u001b[0m\u001b[1;33m)\u001b[0m\u001b[1;33m\u001b[0m\u001b[1;33m\u001b[0m\u001b[0m\n\u001b[0m\u001b[0;32m     70\u001b[0m \u001b[1;33m\u001b[0m\u001b[0m\n\u001b[0;32m     71\u001b[0m     \u001b[1;32mreturn\u001b[0m \u001b[0mnew_method\u001b[0m\u001b[1;33m\u001b[0m\u001b[1;33m\u001b[0m\u001b[0m\n",
      "\u001b[1;32mC:\\Program Files (x86)\\python39\\V_3.9.8\\soft\\WPy64\\python-3.9.8.amd64\\lib\\site-packages\\pandas\\core\\arraylike.py\u001b[0m in \u001b[0;36m__ge__\u001b[1;34m(self, other)\u001b[0m\n\u001b[0;32m     50\u001b[0m     \u001b[1;33m@\u001b[0m\u001b[0munpack_zerodim_and_defer\u001b[0m\u001b[1;33m(\u001b[0m\u001b[1;34m\"__ge__\"\u001b[0m\u001b[1;33m)\u001b[0m\u001b[1;33m\u001b[0m\u001b[1;33m\u001b[0m\u001b[0m\n\u001b[0;32m     51\u001b[0m     \u001b[1;32mdef\u001b[0m \u001b[0m__ge__\u001b[0m\u001b[1;33m(\u001b[0m\u001b[0mself\u001b[0m\u001b[1;33m,\u001b[0m \u001b[0mother\u001b[0m\u001b[1;33m)\u001b[0m\u001b[1;33m:\u001b[0m\u001b[1;33m\u001b[0m\u001b[1;33m\u001b[0m\u001b[0m\n\u001b[1;32m---> 52\u001b[1;33m         \u001b[1;32mreturn\u001b[0m \u001b[0mself\u001b[0m\u001b[1;33m.\u001b[0m\u001b[0m_cmp_method\u001b[0m\u001b[1;33m(\u001b[0m\u001b[0mother\u001b[0m\u001b[1;33m,\u001b[0m \u001b[0moperator\u001b[0m\u001b[1;33m.\u001b[0m\u001b[0mge\u001b[0m\u001b[1;33m)\u001b[0m\u001b[1;33m\u001b[0m\u001b[1;33m\u001b[0m\u001b[0m\n\u001b[0m\u001b[0;32m     53\u001b[0m \u001b[1;33m\u001b[0m\u001b[0m\n\u001b[0;32m     54\u001b[0m     \u001b[1;31m# -------------------------------------------------------------\u001b[0m\u001b[1;33m\u001b[0m\u001b[1;33m\u001b[0m\u001b[0m\n",
      "\u001b[1;32mC:\\Program Files (x86)\\python39\\V_3.9.8\\soft\\WPy64\\python-3.9.8.amd64\\lib\\site-packages\\pandas\\core\\series.py\u001b[0m in \u001b[0;36m_cmp_method\u001b[1;34m(self, other, op)\u001b[0m\n\u001b[0;32m   5500\u001b[0m \u001b[1;33m\u001b[0m\u001b[0m\n\u001b[0;32m   5501\u001b[0m         \u001b[1;32mwith\u001b[0m \u001b[0mnp\u001b[0m\u001b[1;33m.\u001b[0m\u001b[0merrstate\u001b[0m\u001b[1;33m(\u001b[0m\u001b[0mall\u001b[0m\u001b[1;33m=\u001b[0m\u001b[1;34m\"ignore\"\u001b[0m\u001b[1;33m)\u001b[0m\u001b[1;33m:\u001b[0m\u001b[1;33m\u001b[0m\u001b[1;33m\u001b[0m\u001b[0m\n\u001b[1;32m-> 5502\u001b[1;33m             \u001b[0mres_values\u001b[0m \u001b[1;33m=\u001b[0m \u001b[0mops\u001b[0m\u001b[1;33m.\u001b[0m\u001b[0mcomparison_op\u001b[0m\u001b[1;33m(\u001b[0m\u001b[0mlvalues\u001b[0m\u001b[1;33m,\u001b[0m \u001b[0mrvalues\u001b[0m\u001b[1;33m,\u001b[0m \u001b[0mop\u001b[0m\u001b[1;33m)\u001b[0m\u001b[1;33m\u001b[0m\u001b[1;33m\u001b[0m\u001b[0m\n\u001b[0m\u001b[0;32m   5503\u001b[0m \u001b[1;33m\u001b[0m\u001b[0m\n\u001b[0;32m   5504\u001b[0m         \u001b[1;32mreturn\u001b[0m \u001b[0mself\u001b[0m\u001b[1;33m.\u001b[0m\u001b[0m_construct_result\u001b[0m\u001b[1;33m(\u001b[0m\u001b[0mres_values\u001b[0m\u001b[1;33m,\u001b[0m \u001b[0mname\u001b[0m\u001b[1;33m=\u001b[0m\u001b[0mres_name\u001b[0m\u001b[1;33m)\u001b[0m\u001b[1;33m\u001b[0m\u001b[1;33m\u001b[0m\u001b[0m\n",
      "\u001b[1;32mC:\\Program Files (x86)\\python39\\V_3.9.8\\soft\\WPy64\\python-3.9.8.amd64\\lib\\site-packages\\pandas\\core\\ops\\array_ops.py\u001b[0m in \u001b[0;36mcomparison_op\u001b[1;34m(left, right, op)\u001b[0m\n\u001b[0;32m    282\u001b[0m \u001b[1;33m\u001b[0m\u001b[0m\n\u001b[0;32m    283\u001b[0m     \u001b[1;32melif\u001b[0m \u001b[0mis_object_dtype\u001b[0m\u001b[1;33m(\u001b[0m\u001b[0mlvalues\u001b[0m\u001b[1;33m.\u001b[0m\u001b[0mdtype\u001b[0m\u001b[1;33m)\u001b[0m \u001b[1;32mor\u001b[0m \u001b[0misinstance\u001b[0m\u001b[1;33m(\u001b[0m\u001b[0mrvalues\u001b[0m\u001b[1;33m,\u001b[0m \u001b[0mstr\u001b[0m\u001b[1;33m)\u001b[0m\u001b[1;33m:\u001b[0m\u001b[1;33m\u001b[0m\u001b[1;33m\u001b[0m\u001b[0m\n\u001b[1;32m--> 284\u001b[1;33m         \u001b[0mres_values\u001b[0m \u001b[1;33m=\u001b[0m \u001b[0mcomp_method_OBJECT_ARRAY\u001b[0m\u001b[1;33m(\u001b[0m\u001b[0mop\u001b[0m\u001b[1;33m,\u001b[0m \u001b[0mlvalues\u001b[0m\u001b[1;33m,\u001b[0m \u001b[0mrvalues\u001b[0m\u001b[1;33m)\u001b[0m\u001b[1;33m\u001b[0m\u001b[1;33m\u001b[0m\u001b[0m\n\u001b[0m\u001b[0;32m    285\u001b[0m \u001b[1;33m\u001b[0m\u001b[0m\n\u001b[0;32m    286\u001b[0m     \u001b[1;32melse\u001b[0m\u001b[1;33m:\u001b[0m\u001b[1;33m\u001b[0m\u001b[1;33m\u001b[0m\u001b[0m\n",
      "\u001b[1;32mC:\\Program Files (x86)\\python39\\V_3.9.8\\soft\\WPy64\\python-3.9.8.amd64\\lib\\site-packages\\pandas\\core\\ops\\array_ops.py\u001b[0m in \u001b[0;36mcomp_method_OBJECT_ARRAY\u001b[1;34m(op, x, y)\u001b[0m\n\u001b[0;32m     71\u001b[0m         \u001b[0mresult\u001b[0m \u001b[1;33m=\u001b[0m \u001b[0mlibops\u001b[0m\u001b[1;33m.\u001b[0m\u001b[0mvec_compare\u001b[0m\u001b[1;33m(\u001b[0m\u001b[0mx\u001b[0m\u001b[1;33m.\u001b[0m\u001b[0mravel\u001b[0m\u001b[1;33m(\u001b[0m\u001b[1;33m)\u001b[0m\u001b[1;33m,\u001b[0m \u001b[0my\u001b[0m\u001b[1;33m.\u001b[0m\u001b[0mravel\u001b[0m\u001b[1;33m(\u001b[0m\u001b[1;33m)\u001b[0m\u001b[1;33m,\u001b[0m \u001b[0mop\u001b[0m\u001b[1;33m)\u001b[0m\u001b[1;33m\u001b[0m\u001b[1;33m\u001b[0m\u001b[0m\n\u001b[0;32m     72\u001b[0m     \u001b[1;32melse\u001b[0m\u001b[1;33m:\u001b[0m\u001b[1;33m\u001b[0m\u001b[1;33m\u001b[0m\u001b[0m\n\u001b[1;32m---> 73\u001b[1;33m         \u001b[0mresult\u001b[0m \u001b[1;33m=\u001b[0m \u001b[0mlibops\u001b[0m\u001b[1;33m.\u001b[0m\u001b[0mscalar_compare\u001b[0m\u001b[1;33m(\u001b[0m\u001b[0mx\u001b[0m\u001b[1;33m.\u001b[0m\u001b[0mravel\u001b[0m\u001b[1;33m(\u001b[0m\u001b[1;33m)\u001b[0m\u001b[1;33m,\u001b[0m \u001b[0my\u001b[0m\u001b[1;33m,\u001b[0m \u001b[0mop\u001b[0m\u001b[1;33m)\u001b[0m\u001b[1;33m\u001b[0m\u001b[1;33m\u001b[0m\u001b[0m\n\u001b[0m\u001b[0;32m     74\u001b[0m     \u001b[1;32mreturn\u001b[0m \u001b[0mresult\u001b[0m\u001b[1;33m.\u001b[0m\u001b[0mreshape\u001b[0m\u001b[1;33m(\u001b[0m\u001b[0mx\u001b[0m\u001b[1;33m.\u001b[0m\u001b[0mshape\u001b[0m\u001b[1;33m)\u001b[0m\u001b[1;33m\u001b[0m\u001b[1;33m\u001b[0m\u001b[0m\n\u001b[0;32m     75\u001b[0m \u001b[1;33m\u001b[0m\u001b[0m\n",
      "\u001b[1;32mC:\\Program Files (x86)\\python39\\V_3.9.8\\soft\\WPy64\\python-3.9.8.amd64\\lib\\site-packages\\pandas\\_libs\\ops.pyx\u001b[0m in \u001b[0;36mpandas._libs.ops.scalar_compare\u001b[1;34m()\u001b[0m\n",
      "\u001b[1;31mTypeError\u001b[0m: can't compare datetime.datetime to datetime.date"
     ]
    }
   ],
   "source": [
    "#excluindo infos de anulado/devolvido/solicitado\n",
    "Lista_Geral_Dossier_2022_mes_df = Lista_Geral_Dossier_2022_df[Lista_Geral_Dossier_2022_df['DATA REAL RECEBIMENTO'] >= primeiro]"
   ]
  },
  {
   "cell_type": "code",
   "execution_count": null,
   "id": "4f8e7aa8",
   "metadata": {},
   "outputs": [],
   "source": []
  }
 ],
 "metadata": {
  "kernelspec": {
   "display_name": "Python 3 (ipykernel)",
   "language": "python",
   "name": "python3"
  },
  "language_info": {
   "codemirror_mode": {
    "name": "ipython",
    "version": 3
   },
   "file_extension": ".py",
   "mimetype": "text/x-python",
   "name": "python",
   "nbconvert_exporter": "python",
   "pygments_lexer": "ipython3",
   "version": "3.9.8"
  }
 },
 "nbformat": 4,
 "nbformat_minor": 5
}
